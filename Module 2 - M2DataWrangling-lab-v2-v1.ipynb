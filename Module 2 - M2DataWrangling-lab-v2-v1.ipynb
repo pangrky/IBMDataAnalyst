{
 "cells": [
  {
   "cell_type": "markdown",
   "metadata": {},
   "source": [
    "<p style=\"text-align:center\">\n",
    "    <a href=\"https://skills.network\" target=\"_blank\">\n",
    "    <img src=\"https://cf-courses-data.s3.us.cloud-object-storage.appdomain.cloud/assets/logos/SN_web_lightmode.png\" width=\"200\" alt=\"Skills Network Logo\"  />\n",
    "    </a>\n",
    "</p>\n"
   ]
  },
  {
   "cell_type": "markdown",
   "metadata": {},
   "source": [
    "# **Data Wrangling Lab**\n"
   ]
  },
  {
   "cell_type": "markdown",
   "metadata": {},
   "source": [
    "Estimated time needed: **45** minutes\n"
   ]
  },
  {
   "cell_type": "markdown",
   "metadata": {},
   "source": [
    "In this lab, you will perform data wrangling tasks to prepare raw data for analysis. Data wrangling involves cleaning, transforming, and organizing data into a structured format suitable for analysis. This lab focuses on tasks like identifying inconsistencies, encoding categorical variables, and feature transformation.\n"
   ]
  },
  {
   "cell_type": "markdown",
   "metadata": {},
   "source": [
    "## Objectives\n"
   ]
  },
  {
   "cell_type": "markdown",
   "metadata": {},
   "source": [
    "After completing this lab, you will be able to:\n"
   ]
  },
  {
   "cell_type": "markdown",
   "metadata": {},
   "source": [
    "- Identify and remove inconsistent data entries.\n",
    "\n",
    "- Encode categorical variables for analysis.\n",
    "\n",
    "- Handle missing values using multiple imputation strategies.\n",
    "\n",
    "- Apply feature scaling and transformation techniques.\n"
   ]
  },
  {
   "cell_type": "markdown",
   "metadata": {},
   "source": [
    "#### Intsall the required libraries\n"
   ]
  },
  {
   "cell_type": "code",
   "execution_count": 123,
   "metadata": {},
   "outputs": [
    {
     "name": "stdout",
     "output_type": "stream",
     "text": [
      "Requirement already satisfied: pandas in c:\\users\\pangr\\anaconda3\\lib\\site-packages (2.2.2)\n",
      "Requirement already satisfied: numpy>=1.26.0 in c:\\users\\pangr\\anaconda3\\lib\\site-packages (from pandas) (1.26.4)\n",
      "Requirement already satisfied: python-dateutil>=2.8.2 in c:\\users\\pangr\\anaconda3\\lib\\site-packages (from pandas) (2.9.0.post0)\n",
      "Requirement already satisfied: pytz>=2020.1 in c:\\users\\pangr\\anaconda3\\lib\\site-packages (from pandas) (2024.1)\n",
      "Requirement already satisfied: tzdata>=2022.7 in c:\\users\\pangr\\anaconda3\\lib\\site-packages (from pandas) (2023.3)\n",
      "Requirement already satisfied: six>=1.5 in c:\\users\\pangr\\anaconda3\\lib\\site-packages (from python-dateutil>=2.8.2->pandas) (1.16.0)\n",
      "Requirement already satisfied: matplotlib in c:\\users\\pangr\\anaconda3\\lib\\site-packages (3.8.4)\n",
      "Requirement already satisfied: contourpy>=1.0.1 in c:\\users\\pangr\\anaconda3\\lib\\site-packages (from matplotlib) (1.2.0)\n",
      "Requirement already satisfied: cycler>=0.10 in c:\\users\\pangr\\anaconda3\\lib\\site-packages (from matplotlib) (0.11.0)\n",
      "Requirement already satisfied: fonttools>=4.22.0 in c:\\users\\pangr\\anaconda3\\lib\\site-packages (from matplotlib) (4.51.0)\n",
      "Requirement already satisfied: kiwisolver>=1.3.1 in c:\\users\\pangr\\anaconda3\\lib\\site-packages (from matplotlib) (1.4.4)\n",
      "Requirement already satisfied: numpy>=1.21 in c:\\users\\pangr\\anaconda3\\lib\\site-packages (from matplotlib) (1.26.4)\n",
      "Requirement already satisfied: packaging>=20.0 in c:\\users\\pangr\\anaconda3\\lib\\site-packages (from matplotlib) (23.2)\n",
      "Requirement already satisfied: pillow>=8 in c:\\users\\pangr\\anaconda3\\lib\\site-packages (from matplotlib) (10.3.0)\n",
      "Requirement already satisfied: pyparsing>=2.3.1 in c:\\users\\pangr\\anaconda3\\lib\\site-packages (from matplotlib) (3.0.9)\n",
      "Requirement already satisfied: python-dateutil>=2.7 in c:\\users\\pangr\\anaconda3\\lib\\site-packages (from matplotlib) (2.9.0.post0)\n",
      "Requirement already satisfied: six>=1.5 in c:\\users\\pangr\\anaconda3\\lib\\site-packages (from python-dateutil>=2.7->matplotlib) (1.16.0)\n"
     ]
    }
   ],
   "source": [
    "!pip install pandas\n",
    "!pip install matplotlib"
   ]
  },
  {
   "cell_type": "markdown",
   "metadata": {},
   "source": [
    "## Tasks\n"
   ]
  },
  {
   "cell_type": "markdown",
   "metadata": {},
   "source": [
    "#### Step 1: Import the necessary module.\n"
   ]
  },
  {
   "cell_type": "markdown",
   "metadata": {},
   "source": [
    "### 1. Load the Dataset\n"
   ]
  },
  {
   "cell_type": "markdown",
   "metadata": {},
   "source": [
    "<h5>1.1 Import necessary libraries and load the dataset.</h5>\n"
   ]
  },
  {
   "cell_type": "markdown",
   "metadata": {},
   "source": [
    "Ensure the dataset is loaded correctly by displaying the first few rows.\n"
   ]
  },
  {
   "cell_type": "code",
   "execution_count": 236,
   "metadata": {},
   "outputs": [
    {
     "name": "stdout",
     "output_type": "stream",
     "text": [
      "   ResponseId                      MainBranch                 Age  \\\n",
      "0           1  I am a developer by profession  Under 18 years old   \n",
      "1           2  I am a developer by profession     35-44 years old   \n",
      "2           3  I am a developer by profession     45-54 years old   \n",
      "3           4           I am learning to code     18-24 years old   \n",
      "4           5  I am a developer by profession     18-24 years old   \n",
      "\n",
      "            Employment RemoteWork   Check  \\\n",
      "0  Employed, full-time     Remote  Apples   \n",
      "1  Employed, full-time     Remote  Apples   \n",
      "2  Employed, full-time     Remote  Apples   \n",
      "3   Student, full-time        NaN  Apples   \n",
      "4   Student, full-time        NaN  Apples   \n",
      "\n",
      "                                    CodingActivities  \\\n",
      "0                                              Hobby   \n",
      "1  Hobby;Contribute to open-source projects;Other...   \n",
      "2  Hobby;Contribute to open-source projects;Other...   \n",
      "3                                                NaN   \n",
      "4                                                NaN   \n",
      "\n",
      "                                             EdLevel  \\\n",
      "0                          Primary/elementary school   \n",
      "1       Bachelor’s degree (B.A., B.S., B.Eng., etc.)   \n",
      "2    Master’s degree (M.A., M.S., M.Eng., MBA, etc.)   \n",
      "3  Some college/university study without earning ...   \n",
      "4  Secondary school (e.g. American high school, G...   \n",
      "\n",
      "                                           LearnCode  \\\n",
      "0                             Books / Physical media   \n",
      "1  Books / Physical media;Colleague;On the job tr...   \n",
      "2  Books / Physical media;Colleague;On the job tr...   \n",
      "3  Other online resources (e.g., videos, blogs, f...   \n",
      "4  Other online resources (e.g., videos, blogs, f...   \n",
      "\n",
      "                                     LearnCodeOnline  ... JobSatPoints_6  \\\n",
      "0                                                NaN  ...            NaN   \n",
      "1  Technical documentation;Blogs;Books;Written Tu...  ...            0.0   \n",
      "2  Technical documentation;Blogs;Books;Written Tu...  ...            NaN   \n",
      "3  Stack Overflow;How-to videos;Interactive tutorial  ...            NaN   \n",
      "4  Technical documentation;Blogs;Written Tutorial...  ...            NaN   \n",
      "\n",
      "  JobSatPoints_7 JobSatPoints_8 JobSatPoints_9 JobSatPoints_10  \\\n",
      "0            NaN            NaN            NaN             NaN   \n",
      "1            0.0            0.0            0.0             0.0   \n",
      "2            NaN            NaN            NaN             NaN   \n",
      "3            NaN            NaN            NaN             NaN   \n",
      "4            NaN            NaN            NaN             NaN   \n",
      "\n",
      "  JobSatPoints_11           SurveyLength SurveyEase ConvertedCompYearly JobSat  \n",
      "0             NaN                    NaN        NaN                 NaN    NaN  \n",
      "1             0.0                    NaN        NaN                 NaN    NaN  \n",
      "2             NaN  Appropriate in length       Easy                 NaN    NaN  \n",
      "3             NaN               Too long       Easy                 NaN    NaN  \n",
      "4             NaN              Too short       Easy                 NaN    NaN  \n",
      "\n",
      "[5 rows x 114 columns]\n"
     ]
    }
   ],
   "source": [
    "# Import necessary libraries\n",
    "import pandas as pd\n",
    "\n",
    "# Load the Stack Overflow survey data\n",
    "dataset_url = \"https://cf-courses-data.s3.us.cloud-object-storage.appdomain.cloud/n01PQ9pSmiRX6520flujwQ/survey-data.csv\"\n",
    "df = pd.read_csv(dataset_url)\n",
    "\n",
    "# Display the first few rows\n",
    "print(df.head())\n"
   ]
  },
  {
   "cell_type": "markdown",
   "metadata": {},
   "source": [
    "#### 2. Explore the Dataset\n"
   ]
  },
  {
   "cell_type": "markdown",
   "metadata": {},
   "source": [
    "<h5>2.1 Summarize the dataset by displaying the column data types, counts, and missing values.</h5>\n"
   ]
  },
  {
   "cell_type": "code",
   "execution_count": 237,
   "metadata": {},
   "outputs": [
    {
     "name": "stdout",
     "output_type": "stream",
     "text": [
      "data types of data set is :\n",
      " ResponseId               int64\n",
      "MainBranch              object\n",
      "Age                     object\n",
      "Employment              object\n",
      "RemoteWork              object\n",
      "                        ...   \n",
      "JobSatPoints_11        float64\n",
      "SurveyLength            object\n",
      "SurveyEase              object\n",
      "ConvertedCompYearly    float64\n",
      "JobSat                 float64\n",
      "Length: 114, dtype: object\n",
      "Number of misisng value in columns of dataset are : ResponseId                 0\n",
      "MainBranch                 0\n",
      "Age                        0\n",
      "Employment                 0\n",
      "RemoteWork             10631\n",
      "                       ...  \n",
      "JobSatPoints_11        35992\n",
      "SurveyLength            9255\n",
      "SurveyEase              9199\n",
      "ConvertedCompYearly    42002\n",
      "JobSat                 36311\n",
      "Length: 114, dtype: int64\n"
     ]
    }
   ],
   "source": [
    "# Write your code here\n",
    "print('data types of data set is :\\n',df.dtypes)\n",
    "print('Number of misisng value in columns of dataset are :',df.isnull().sum())"
   ]
  },
  {
   "cell_type": "markdown",
   "metadata": {},
   "source": [
    "<h5>2.2 Generate basic statistics for numerical columns.</h5>\n"
   ]
  },
  {
   "cell_type": "code",
   "execution_count": 238,
   "metadata": {},
   "outputs": [
    {
     "data": {
      "text/html": [
       "<div>\n",
       "<style scoped>\n",
       "    .dataframe tbody tr th:only-of-type {\n",
       "        vertical-align: middle;\n",
       "    }\n",
       "\n",
       "    .dataframe tbody tr th {\n",
       "        vertical-align: top;\n",
       "    }\n",
       "\n",
       "    .dataframe thead th {\n",
       "        text-align: right;\n",
       "    }\n",
       "</style>\n",
       "<table border=\"1\" class=\"dataframe\">\n",
       "  <thead>\n",
       "    <tr style=\"text-align: right;\">\n",
       "      <th></th>\n",
       "      <th>ResponseId</th>\n",
       "      <th>CompTotal</th>\n",
       "      <th>WorkExp</th>\n",
       "      <th>JobSatPoints_1</th>\n",
       "      <th>JobSatPoints_4</th>\n",
       "      <th>JobSatPoints_5</th>\n",
       "      <th>JobSatPoints_6</th>\n",
       "      <th>JobSatPoints_7</th>\n",
       "      <th>JobSatPoints_8</th>\n",
       "      <th>JobSatPoints_9</th>\n",
       "      <th>JobSatPoints_10</th>\n",
       "      <th>JobSatPoints_11</th>\n",
       "      <th>ConvertedCompYearly</th>\n",
       "      <th>JobSat</th>\n",
       "    </tr>\n",
       "  </thead>\n",
       "  <tbody>\n",
       "    <tr>\n",
       "      <th>count</th>\n",
       "      <td>65437.000000</td>\n",
       "      <td>3.374000e+04</td>\n",
       "      <td>29658.000000</td>\n",
       "      <td>29324.000000</td>\n",
       "      <td>29393.000000</td>\n",
       "      <td>29411.000000</td>\n",
       "      <td>29450.000000</td>\n",
       "      <td>29448.00000</td>\n",
       "      <td>29456.000000</td>\n",
       "      <td>29456.000000</td>\n",
       "      <td>29450.000000</td>\n",
       "      <td>29445.000000</td>\n",
       "      <td>2.343500e+04</td>\n",
       "      <td>29126.000000</td>\n",
       "    </tr>\n",
       "    <tr>\n",
       "      <th>mean</th>\n",
       "      <td>32719.000000</td>\n",
       "      <td>2.963841e+145</td>\n",
       "      <td>11.466957</td>\n",
       "      <td>18.581094</td>\n",
       "      <td>7.522140</td>\n",
       "      <td>10.060857</td>\n",
       "      <td>24.343232</td>\n",
       "      <td>22.96522</td>\n",
       "      <td>20.278165</td>\n",
       "      <td>16.169432</td>\n",
       "      <td>10.955713</td>\n",
       "      <td>9.953948</td>\n",
       "      <td>8.615529e+04</td>\n",
       "      <td>6.935041</td>\n",
       "    </tr>\n",
       "    <tr>\n",
       "      <th>std</th>\n",
       "      <td>18890.179119</td>\n",
       "      <td>5.444117e+147</td>\n",
       "      <td>9.168709</td>\n",
       "      <td>25.966221</td>\n",
       "      <td>18.422661</td>\n",
       "      <td>21.833836</td>\n",
       "      <td>27.089360</td>\n",
       "      <td>27.01774</td>\n",
       "      <td>26.108110</td>\n",
       "      <td>24.845032</td>\n",
       "      <td>22.906263</td>\n",
       "      <td>21.775652</td>\n",
       "      <td>1.867570e+05</td>\n",
       "      <td>2.088259</td>\n",
       "    </tr>\n",
       "    <tr>\n",
       "      <th>min</th>\n",
       "      <td>1.000000</td>\n",
       "      <td>0.000000e+00</td>\n",
       "      <td>0.000000</td>\n",
       "      <td>0.000000</td>\n",
       "      <td>0.000000</td>\n",
       "      <td>0.000000</td>\n",
       "      <td>0.000000</td>\n",
       "      <td>0.00000</td>\n",
       "      <td>0.000000</td>\n",
       "      <td>0.000000</td>\n",
       "      <td>0.000000</td>\n",
       "      <td>0.000000</td>\n",
       "      <td>1.000000e+00</td>\n",
       "      <td>0.000000</td>\n",
       "    </tr>\n",
       "    <tr>\n",
       "      <th>25%</th>\n",
       "      <td>16360.000000</td>\n",
       "      <td>6.000000e+04</td>\n",
       "      <td>4.000000</td>\n",
       "      <td>0.000000</td>\n",
       "      <td>0.000000</td>\n",
       "      <td>0.000000</td>\n",
       "      <td>0.000000</td>\n",
       "      <td>0.00000</td>\n",
       "      <td>0.000000</td>\n",
       "      <td>0.000000</td>\n",
       "      <td>0.000000</td>\n",
       "      <td>0.000000</td>\n",
       "      <td>3.271200e+04</td>\n",
       "      <td>6.000000</td>\n",
       "    </tr>\n",
       "    <tr>\n",
       "      <th>50%</th>\n",
       "      <td>32719.000000</td>\n",
       "      <td>1.100000e+05</td>\n",
       "      <td>9.000000</td>\n",
       "      <td>10.000000</td>\n",
       "      <td>0.000000</td>\n",
       "      <td>0.000000</td>\n",
       "      <td>20.000000</td>\n",
       "      <td>15.00000</td>\n",
       "      <td>10.000000</td>\n",
       "      <td>5.000000</td>\n",
       "      <td>0.000000</td>\n",
       "      <td>0.000000</td>\n",
       "      <td>6.500000e+04</td>\n",
       "      <td>7.000000</td>\n",
       "    </tr>\n",
       "    <tr>\n",
       "      <th>75%</th>\n",
       "      <td>49078.000000</td>\n",
       "      <td>2.500000e+05</td>\n",
       "      <td>16.000000</td>\n",
       "      <td>22.000000</td>\n",
       "      <td>5.000000</td>\n",
       "      <td>10.000000</td>\n",
       "      <td>30.000000</td>\n",
       "      <td>30.00000</td>\n",
       "      <td>25.000000</td>\n",
       "      <td>20.000000</td>\n",
       "      <td>10.000000</td>\n",
       "      <td>10.000000</td>\n",
       "      <td>1.079715e+05</td>\n",
       "      <td>8.000000</td>\n",
       "    </tr>\n",
       "    <tr>\n",
       "      <th>max</th>\n",
       "      <td>65437.000000</td>\n",
       "      <td>1.000000e+150</td>\n",
       "      <td>50.000000</td>\n",
       "      <td>100.000000</td>\n",
       "      <td>100.000000</td>\n",
       "      <td>100.000000</td>\n",
       "      <td>100.000000</td>\n",
       "      <td>100.00000</td>\n",
       "      <td>100.000000</td>\n",
       "      <td>100.000000</td>\n",
       "      <td>100.000000</td>\n",
       "      <td>100.000000</td>\n",
       "      <td>1.625660e+07</td>\n",
       "      <td>10.000000</td>\n",
       "    </tr>\n",
       "  </tbody>\n",
       "</table>\n",
       "</div>"
      ],
      "text/plain": [
       "         ResponseId      CompTotal       WorkExp  JobSatPoints_1  \\\n",
       "count  65437.000000   3.374000e+04  29658.000000    29324.000000   \n",
       "mean   32719.000000  2.963841e+145     11.466957       18.581094   \n",
       "std    18890.179119  5.444117e+147      9.168709       25.966221   \n",
       "min        1.000000   0.000000e+00      0.000000        0.000000   \n",
       "25%    16360.000000   6.000000e+04      4.000000        0.000000   \n",
       "50%    32719.000000   1.100000e+05      9.000000       10.000000   \n",
       "75%    49078.000000   2.500000e+05     16.000000       22.000000   \n",
       "max    65437.000000  1.000000e+150     50.000000      100.000000   \n",
       "\n",
       "       JobSatPoints_4  JobSatPoints_5  JobSatPoints_6  JobSatPoints_7  \\\n",
       "count    29393.000000    29411.000000    29450.000000     29448.00000   \n",
       "mean         7.522140       10.060857       24.343232        22.96522   \n",
       "std         18.422661       21.833836       27.089360        27.01774   \n",
       "min          0.000000        0.000000        0.000000         0.00000   \n",
       "25%          0.000000        0.000000        0.000000         0.00000   \n",
       "50%          0.000000        0.000000       20.000000        15.00000   \n",
       "75%          5.000000       10.000000       30.000000        30.00000   \n",
       "max        100.000000      100.000000      100.000000       100.00000   \n",
       "\n",
       "       JobSatPoints_8  JobSatPoints_9  JobSatPoints_10  JobSatPoints_11  \\\n",
       "count    29456.000000    29456.000000     29450.000000     29445.000000   \n",
       "mean        20.278165       16.169432        10.955713         9.953948   \n",
       "std         26.108110       24.845032        22.906263        21.775652   \n",
       "min          0.000000        0.000000         0.000000         0.000000   \n",
       "25%          0.000000        0.000000         0.000000         0.000000   \n",
       "50%         10.000000        5.000000         0.000000         0.000000   \n",
       "75%         25.000000       20.000000        10.000000        10.000000   \n",
       "max        100.000000      100.000000       100.000000       100.000000   \n",
       "\n",
       "       ConvertedCompYearly        JobSat  \n",
       "count         2.343500e+04  29126.000000  \n",
       "mean          8.615529e+04      6.935041  \n",
       "std           1.867570e+05      2.088259  \n",
       "min           1.000000e+00      0.000000  \n",
       "25%           3.271200e+04      6.000000  \n",
       "50%           6.500000e+04      7.000000  \n",
       "75%           1.079715e+05      8.000000  \n",
       "max           1.625660e+07     10.000000  "
      ]
     },
     "execution_count": 238,
     "metadata": {},
     "output_type": "execute_result"
    }
   ],
   "source": [
    "# Write your code here\n",
    "df.describe()"
   ]
  },
  {
   "cell_type": "markdown",
   "metadata": {},
   "source": [
    "### 3. Identifying and Removing Inconsistencies\n"
   ]
  },
  {
   "cell_type": "markdown",
   "metadata": {},
   "source": [
    "<h5>3.1 Identify inconsistent or irrelevant entries in specific columns (e.g., Country).</h5>\n"
   ]
  },
  {
   "cell_type": "code",
   "execution_count": 242,
   "metadata": {},
   "outputs": [
    {
     "data": {
      "text/plain": [
       "array(['United States of America',\n",
       "       'United Kingdom of Great Britain and Northern Ireland', 'Canada',\n",
       "       'Norway', 'Uzbekistan', 'Serbia', 'Poland', 'Philippines',\n",
       "       'Bulgaria', 'Switzerland', 'India', 'Germany', 'Ireland', 'Italy',\n",
       "       'Ukraine', 'Australia', 'Brazil', 'Japan', 'Austria',\n",
       "       'Iran, Islamic Republic of...', 'France', 'Saudi Arabia',\n",
       "       'Romania', 'Turkey', 'Nepal', 'Algeria', 'Sweden', 'Netherlands',\n",
       "       'Croatia', 'Pakistan', 'Czech Republic',\n",
       "       'Republic of North Macedonia', 'Finland', 'Slovakia',\n",
       "       'Russian Federation', 'Greece', 'Israel', 'Belgium', 'Mexico',\n",
       "       'United Republic of Tanzania', 'Hungary', 'Argentina', 'Portugal',\n",
       "       'Sri Lanka', 'Latvia', 'China', 'Singapore', 'Lebanon', 'Spain',\n",
       "       'South Africa', 'Lithuania', 'Viet Nam', 'Dominican Republic',\n",
       "       'Indonesia', 'Kosovo', 'Morocco', 'Taiwan', 'Georgia',\n",
       "       'San Marino', 'Tunisia', 'Bangladesh', 'Nigeria', 'Liechtenstein',\n",
       "       'Denmark', 'Ecuador', 'Malaysia', 'Albania', 'Azerbaijan', 'Chile',\n",
       "       'Ghana', 'Peru', 'Bolivia', 'Egypt', 'Luxembourg', 'Montenegro',\n",
       "       'Cyprus', 'Paraguay', 'Kazakhstan', 'Slovenia', 'Jordan',\n",
       "       'Venezuela, Bolivarian Republic of...', 'Costa Rica', 'Jamaica',\n",
       "       'Thailand', 'Nicaragua', 'Myanmar', 'Republic of Korea', 'Rwanda',\n",
       "       'Bosnia and Herzegovina', 'Benin', 'El Salvador', 'Zimbabwe',\n",
       "       'Afghanistan', 'Estonia', 'Malta', 'Uruguay', 'Belarus',\n",
       "       'Colombia', 'Republic of Moldova', 'Isle of Man', 'Nomadic',\n",
       "       'New Zealand', 'Palestine', 'Armenia', 'United Arab Emirates',\n",
       "       'Maldives', 'Ethiopia', 'Fiji', 'Guatemala', 'Uganda',\n",
       "       'Turkmenistan', 'Mauritius', 'Kenya', 'Cuba', 'Gabon', 'Bahamas',\n",
       "       'South Korea', 'Iceland', 'Honduras', 'Hong Kong (S.A.R.)',\n",
       "       \"Lao People's Democratic Republic\", 'Mongolia', 'Cambodia',\n",
       "       'Madagascar', 'Angola', 'Democratic Republic of the Congo',\n",
       "       'Syrian Arab Republic', 'Iraq', 'Namibia', 'Senegal', 'Kyrgyzstan',\n",
       "       'Zambia', 'Swaziland', \"Côte d'Ivoire\", 'Kuwait', 'Tajikistan',\n",
       "       'Burundi', 'Trinidad and Tobago', 'Mauritania', 'Sierra Leone',\n",
       "       'Panama', 'Somalia', 'North Korea', 'Dominica', 'Guyana', 'Togo',\n",
       "       'Oman', 'Barbados', 'Andorra',\n",
       "       \"Democratic People's Republic of Korea\", 'Qatar', 'Sudan',\n",
       "       'Cameroon', 'Papua New Guinea', 'Bahrain', 'Yemen', 'Malawi',\n",
       "       'Burkina Faso', 'Congo, Republic of the...', 'Botswana',\n",
       "       'Guinea-Bissau', 'Mozambique', 'Central African Republic',\n",
       "       'Equatorial Guinea', 'Suriname', 'Belize',\n",
       "       'Libyan Arab Jamahiriya', 'Cape Verde', 'Brunei Darussalam',\n",
       "       'Bhutan', 'Guinea', 'Niger', 'Antigua and Barbuda', 'Mali',\n",
       "       'Samoa', 'Lesotho', 'Saint Kitts and Nevis', 'Monaco',\n",
       "       'Micronesia, Federated States of...', 'Haiti', nan, 'Nauru',\n",
       "       'Liberia', 'Chad', 'Djibouti', 'Solomon Islands'], dtype=object)"
      ]
     },
     "execution_count": 242,
     "metadata": {},
     "output_type": "execute_result"
    }
   ],
   "source": [
    "# Write your code here\n",
    "df['Country'].unique()"
   ]
  },
  {
   "cell_type": "markdown",
   "metadata": {},
   "source": [
    "<h5>3.2 Standardize entries in columns like Country or EdLevel by mapping inconsistent values to a consistent format.</h5>\n"
   ]
  },
  {
   "cell_type": "code",
   "execution_count": 244,
   "metadata": {},
   "outputs": [
    {
     "data": {
      "text/plain": [
       "array(['Canada', 'Norway', 'Uzbekistan', 'Serbia', 'Poland',\n",
       "       'Philippines', 'Bulgaria', 'Switzerland', 'India', 'Germany',\n",
       "       'Ireland', 'Italy', 'Ukraine', 'Australia', 'Brazil', 'Japan',\n",
       "       'Austria', 'France', 'Saudi Arabia', 'Romania', 'Turkey', 'Nepal',\n",
       "       'Algeria', 'Sweden', 'Netherlands', 'Croatia', 'Pakistan',\n",
       "       'Czech Republic', 'Finland', 'Slovakia', 'Russian Federation',\n",
       "       'Greece', 'Israel', 'Belgium', 'Mexico', 'Hungary', 'Argentina',\n",
       "       'Portugal', 'Sri Lanka', 'Latvia', 'China', 'Singapore', 'Lebanon',\n",
       "       'Spain', 'South Africa', 'Lithuania', 'Vietnam',\n",
       "       'Dominican Republic', 'Indonesia', 'Kosovo', 'Morocco', 'Taiwan',\n",
       "       'Georgia', 'San Marino', 'Tunisia', 'Bangladesh', 'Nigeria',\n",
       "       'Liechtenstein', 'Denmark', 'Ecuador', 'Malaysia', 'Albania',\n",
       "       'Azerbaijan', 'Chile', 'Ghana', 'Peru', 'Bolivia', 'Egypt',\n",
       "       'Luxembourg', 'Montenegro', 'Cyprus', 'Paraguay', 'Kazakhstan',\n",
       "       'Slovenia', 'Jordan', 'Costa Rica', 'Jamaica', 'Thailand',\n",
       "       'Nicaragua', 'Myanmar', 'South Korea', 'Rwanda',\n",
       "       'Bosnia and Herzegovina', 'Benin', 'El Salvador', 'Zimbabwe',\n",
       "       'Afghanistan', 'Estonia', 'Malta', 'Uruguay', 'Belarus',\n",
       "       'Colombia', 'Nomadic', 'New Zealand', 'Palestine', 'Armenia',\n",
       "       'United Arab Emirates', 'Maldives', 'Ethiopia', 'Fiji',\n",
       "       'Guatemala', 'Uganda', 'Turkmenistan', 'Mauritius', 'Kenya',\n",
       "       'Cuba', 'Gabon', 'Bahamas', 'Iceland', 'Honduras',\n",
       "       'Hong Kong (S.A.R.)', \"Lao People's Democratic Republic\",\n",
       "       'Mongolia', 'Cambodia', 'Madagascar', 'Angola',\n",
       "       'Syrian Arab Republic', 'Iraq', 'Namibia', 'Senegal', 'Kyrgyzstan',\n",
       "       'Zambia', 'Swaziland', \"Côte d'Ivoire\", 'Kuwait', 'Tajikistan',\n",
       "       'Burundi', 'Trinidad and Tobago', 'Mauritania', 'Sierra Leone',\n",
       "       'Panama', 'Somalia', 'North Korea', 'Dominica', 'Guyana', 'Togo',\n",
       "       'Oman', 'Barbados', 'Andorra', 'Qatar', 'Sudan', 'Cameroon',\n",
       "       'Papua New Guinea', 'Bahrain', 'Yemen', 'Malawi', 'Burkina Faso',\n",
       "       'Botswana', 'Guinea-Bissau', 'Mozambique',\n",
       "       'Central African Republic', 'Equatorial Guinea', 'Suriname',\n",
       "       'Belize', 'Libyan Arab Jamahiriya', 'Cape Verde',\n",
       "       'Brunei Darussalam', 'Bhutan', 'Guinea', 'Niger',\n",
       "       'Antigua and Barbuda', 'Mali', 'Samoa', 'Lesotho',\n",
       "       'Saint Kitts and Nevis', 'Monaco', 'Haiti', 'Nauru', 'Liberia',\n",
       "       'Chad', 'Djibouti', 'Solomon Islands'], dtype=object)"
      ]
     },
     "execution_count": 244,
     "metadata": {},
     "output_type": "execute_result"
    }
   ],
   "source": [
    "## Write your code here\n",
    "df['Country'] = df['Country'].replace(\"Democratic People's Republic of Korea\", 'North Korea') \n",
    "df['Country'] = df['Country'].replace('Republic of Korea', 'South Korea') \n",
    "df['Country'] = df['Country'].replace('Viet Nam', 'Vietnam')\n",
    "df = df.dropna(subset=['Country'])\n",
    "filter=df['Country'].str.contains('of...')\n",
    "df=df[~filter]\n",
    "df['Country'].unique()"
   ]
  },
  {
   "cell_type": "markdown",
   "metadata": {},
   "source": [
    "### 4. Encoding Categorical Variables\n"
   ]
  },
  {
   "cell_type": "markdown",
   "metadata": {},
   "source": [
    "<h5>4.1 Encode the Employment column using one-hot encoding.</h5>\n"
   ]
  },
  {
   "cell_type": "code",
   "execution_count": 246,
   "metadata": {},
   "outputs": [
    {
     "name": "stdout",
     "output_type": "stream",
     "text": [
      "    ResponseId                      MainBranch              Age RemoteWork  \\\n",
      "3            4           I am learning to code  18-24 years old        NaN   \n",
      "4            5  I am a developer by profession  18-24 years old        NaN   \n",
      "7            8           I am learning to code  18-24 years old        NaN   \n",
      "9           10  I am a developer by profession  35-44 years old     Remote   \n",
      "11          12  I am a developer by profession  45-54 years old  In-person   \n",
      "\n",
      "     Check               CodingActivities  \\\n",
      "3   Apples                            NaN   \n",
      "4   Apples                            NaN   \n",
      "7   Apples                            NaN   \n",
      "9   Apples       Bootstrapping a business   \n",
      "11  Apples  Hobby;School or academic work   \n",
      "\n",
      "                                              EdLevel  \\\n",
      "3   Some college/university study without earning ...   \n",
      "4   Secondary school (e.g. American high school, G...   \n",
      "7   Secondary school (e.g. American high school, G...   \n",
      "9     Master’s degree (M.A., M.S., M.Eng., MBA, etc.)   \n",
      "11     Professional degree (JD, MD, Ph.D, Ed.D, etc.)   \n",
      "\n",
      "                                            LearnCode  \\\n",
      "3   Other online resources (e.g., videos, blogs, f...   \n",
      "4   Other online resources (e.g., videos, blogs, f...   \n",
      "7   Other online resources (e.g., videos, blogs, f...   \n",
      "9   On the job training;Other online resources (e....   \n",
      "11  Books / Physical media;School (i.e., Universit...   \n",
      "\n",
      "                                      LearnCodeOnline  \\\n",
      "3   Stack Overflow;How-to videos;Interactive tutorial   \n",
      "4   Technical documentation;Blogs;Written Tutorial...   \n",
      "7   Technical documentation;Video-based Online Cou...   \n",
      "9   Technical documentation;Blogs;Written Tutorial...   \n",
      "11                                                NaN   \n",
      "\n",
      "                                              TechDoc  ...  \\\n",
      "3                                                 NaN  ...   \n",
      "4   API document(s) and/or SDK document(s);User gu...  ...   \n",
      "7                          First-party knowledge base  ...   \n",
      "9   Traditional public search engine;AI-powered se...  ...   \n",
      "11                                                NaN  ...   \n",
      "\n",
      "   Employment_Student, full-time;Not employed, but looking for work;Not employed, and not looking for work  \\\n",
      "3                                               False                                                        \n",
      "4                                               False                                                        \n",
      "7                                               False                                                        \n",
      "9                                               False                                                        \n",
      "11                                              False                                                        \n",
      "\n",
      "   Employment_Student, full-time;Not employed, but looking for work;Not employed, and not looking for work;Student, part-time  \\\n",
      "3                                               False                                                                           \n",
      "4                                               False                                                                           \n",
      "7                                               False                                                                           \n",
      "9                                               False                                                                           \n",
      "11                                              False                                                                           \n",
      "\n",
      "   Employment_Student, full-time;Not employed, but looking for work;Retired  \\\n",
      "3                                               False                         \n",
      "4                                               False                         \n",
      "7                                               False                         \n",
      "9                                               False                         \n",
      "11                                              False                         \n",
      "\n",
      "   Employment_Student, full-time;Not employed, but looking for work;Student, part-time  \\\n",
      "3                                               False                                    \n",
      "4                                               False                                    \n",
      "7                                               False                                    \n",
      "9                                               False                                    \n",
      "11                                              False                                    \n",
      "\n",
      "   Employment_Student, full-time;Student, part-time  \\\n",
      "3                                             False   \n",
      "4                                             False   \n",
      "7                                             False   \n",
      "9                                             False   \n",
      "11                                            False   \n",
      "\n",
      "   Employment_Student, full-time;Student, part-time;Employed, part-time  \\\n",
      "3                                               False                     \n",
      "4                                               False                     \n",
      "7                                               False                     \n",
      "9                                               False                     \n",
      "11                                              False                     \n",
      "\n",
      "   Employment_Student, full-time;Student, part-time;Retired  \\\n",
      "3                                               False         \n",
      "4                                               False         \n",
      "7                                               False         \n",
      "9                                               False         \n",
      "11                                              False         \n",
      "\n",
      "   Employment_Student, part-time  \\\n",
      "3                          False   \n",
      "4                          False   \n",
      "7                          False   \n",
      "9                          False   \n",
      "11                         False   \n",
      "\n",
      "   Employment_Student, part-time;Employed, part-time  \\\n",
      "3                                              False   \n",
      "4                                              False   \n",
      "7                                              False   \n",
      "9                                              False   \n",
      "11                                             False   \n",
      "\n",
      "   Employment_Student, part-time;Retired  \n",
      "3                                  False  \n",
      "4                                  False  \n",
      "7                                  False  \n",
      "9                                  False  \n",
      "11                                 False  \n",
      "\n",
      "[5 rows x 211 columns]\n"
     ]
    }
   ],
   "source": [
    "## Write your code here'\n",
    "df_encoded = pd.get_dummies(df, columns=['Employment'], prefix=['Employment'])\n",
    "print(df_encoded.head())"
   ]
  },
  {
   "cell_type": "markdown",
   "metadata": {},
   "source": [
    "### 5. Handling Missing Values\n"
   ]
  },
  {
   "cell_type": "markdown",
   "metadata": {},
   "source": [
    "<h5>5.1 Identify columns with the highest number of missing values.</h5>\n"
   ]
  },
  {
   "cell_type": "code",
   "execution_count": 248,
   "metadata": {},
   "outputs": [
    {
     "name": "stdout",
     "output_type": "stream",
     "text": [
      "AINextMuch less integrated is a column with highest number of missing values.\n"
     ]
    }
   ],
   "source": [
    "## Write your code here\n",
    "missing_values = df.isnull().sum()\n",
    "print(missing_values.idxmax(),'is a column with highest number of missing values.')"
   ]
  },
  {
   "cell_type": "markdown",
   "metadata": {},
   "source": [
    "<h5>5.2 Impute missing values in numerical columns (e.g., `ConvertedCompYearly`) with the mean or median.</h5>\n"
   ]
  },
  {
   "cell_type": "code",
   "execution_count": 250,
   "metadata": {},
   "outputs": [
    {
     "name": "stdout",
     "output_type": "stream",
     "text": [
      "Before imputing missing values for ConvertedCompYearly, the number of missing value is 26833\n",
      "After imputing missing values for ConvertedCompYearly, the number of missing value is 0\n"
     ]
    },
    {
     "name": "stderr",
     "output_type": "stream",
     "text": [
      "C:\\Users\\pangr\\AppData\\Local\\Temp\\ipykernel_31288\\3597093726.py:3: FutureWarning: A value is trying to be set on a copy of a DataFrame or Series through chained assignment using an inplace method.\n",
      "The behavior will change in pandas 3.0. This inplace method will never work because the intermediate object on which we are setting values always behaves as a copy.\n",
      "\n",
      "For example, when doing 'df[col].method(value, inplace=True)', try using 'df.method({col: value}, inplace=True)' or df[col] = df[col].method(value) instead, to perform the operation inplace on the original object.\n",
      "\n",
      "\n",
      "  df['ConvertedCompYearly'].fillna(df['ConvertedCompYearly'].mean(), inplace=True)\n"
     ]
    }
   ],
   "source": [
    "## Write your code here\n",
    "print('Before imputing missing values for ConvertedCompYearly, the number of missing value is',df['ConvertedCompYearly'].isnull().sum())\n",
    "df['ConvertedCompYearly'].fillna(df['ConvertedCompYearly'].mean(), inplace=True)\n",
    "print('After imputing missing values for ConvertedCompYearly, the number of missing value is',df['ConvertedCompYearly'].isnull().sum())"
   ]
  },
  {
   "cell_type": "markdown",
   "metadata": {},
   "source": [
    "<h5>5.3 Impute missing values in categorical columns (e.g., `RemoteWork`) with the most frequent value.</h5>\n"
   ]
  },
  {
   "cell_type": "code",
   "execution_count": 252,
   "metadata": {},
   "outputs": [
    {
     "name": "stdout",
     "output_type": "stream",
     "text": [
      "Before imputing missing values for RemoteWork RemoteWork\n",
      "Hybrid (some remote, some in-person)    16193\n",
      "Remote                                  13100\n",
      "In-person                                7525\n",
      "Name: count, dtype: int64\n",
      "After imputing missing values for RemoteWork RemoteWork\n",
      "Hybrid (some remote, some in-person)    23379\n",
      "Remote                                  13100\n",
      "In-person                                7525\n",
      "Name: count, dtype: int64\n"
     ]
    },
    {
     "name": "stderr",
     "output_type": "stream",
     "text": [
      "C:\\Users\\pangr\\AppData\\Local\\Temp\\ipykernel_31288\\2297023040.py:3: FutureWarning: A value is trying to be set on a copy of a DataFrame or Series through chained assignment using an inplace method.\n",
      "The behavior will change in pandas 3.0. This inplace method will never work because the intermediate object on which we are setting values always behaves as a copy.\n",
      "\n",
      "For example, when doing 'df[col].method(value, inplace=True)', try using 'df.method({col: value}, inplace=True)' or df[col] = df[col].method(value) instead, to perform the operation inplace on the original object.\n",
      "\n",
      "\n",
      "  df['RemoteWork'].fillna(df['RemoteWork'].value_counts().idxmax(),inplace=True)\n"
     ]
    }
   ],
   "source": [
    "## Write your code here\n",
    "print('Before imputing missing values for RemoteWork',df['RemoteWork'].value_counts())\n",
    "df['RemoteWork'].fillna(df['RemoteWork'].value_counts().idxmax(),inplace=True)\n",
    "print('After imputing missing values for RemoteWork',df['RemoteWork'].value_counts())"
   ]
  },
  {
   "cell_type": "markdown",
   "metadata": {},
   "source": [
    "### 6. Feature Scaling and Transformation\n"
   ]
  },
  {
   "cell_type": "markdown",
   "metadata": {},
   "source": [
    "<h5>6.1 Apply Min-Max Scaling to normalize the `ConvertedCompYearly` column.</h5>\n"
   ]
  },
  {
   "cell_type": "code",
   "execution_count": 270,
   "metadata": {},
   "outputs": [
    {
     "data": {
      "text/plain": [
       "<function matplotlib.pyplot.show(close=None, block=None)>"
      ]
     },
     "execution_count": 270,
     "metadata": {},
     "output_type": "execute_result"
    },
    {
     "data": {
      "image/png": "[encoded data removed]",
      "text/plain": [
       "<Figure size 640x480 with 1 Axes>"
      ]
     },
     "metadata": {},
     "output_type": "display_data"
    }
   ],
   "source": [
    "## Write your code here\n",
    "import matplotlib.pyplot as plt\n",
    "df['ConvertedCompYearly'].fillna(df['ConvertedCompYearly'].mean(), inplace=True)\n",
    "df['ConvertedCompYearly'] = (df['ConvertedCompYearly'] - df['ConvertedCompYearly'].min()) / (df['ConvertedCompYearly'].max() - df['ConvertedCompYearly'].min())\n",
    "df['ConvertedCompYearly'].plot.hist(bins=500)\n",
    "plt.show"
   ]
  },
  {
   "cell_type": "markdown",
   "metadata": {},
   "source": [
    "<h5>6.2 Log-transform the ConvertedCompYearly column to reduce skewness.</h5>\n"
   ]
  },
  {
   "cell_type": "code",
   "execution_count": 268,
   "metadata": {},
   "outputs": [
    {
     "data": {
      "text/plain": [
       "<function matplotlib.pyplot.show(close=None, block=None)>"
      ]
     },
     "execution_count": 268,
     "metadata": {},
     "output_type": "execute_result"
    },
    {
     "data": {
      "image/png": "[encoded data removed]",
      "text/plain": [
       "<Figure size 640x480 with 1 Axes>"
      ]
     },
     "metadata": {},
     "output_type": "display_data"
    }
   ],
   "source": [
    "## Write your code here\n",
    "df['ConvertedCompYearly'].plot.hist(bins=500)\n",
    "plt.xscale('log')\n",
    "plt.show\n"
   ]
  },
  {
   "cell_type": "markdown",
   "metadata": {},
   "source": [
    "### 7. Feature Engineering\n"
   ]
  },
  {
   "cell_type": "markdown",
   "metadata": {},
   "source": [
    "<h5>7.1 Create a new column `ExperienceLevel` based on the `YearsCodePro` column:</h5>\n"
   ]
  },
  {
   "cell_type": "code",
   "execution_count": 175,
   "metadata": {},
   "outputs": [
    {
     "name": "stderr",
     "output_type": "stream",
     "text": [
      "C:\\Users\\pangr\\AppData\\Local\\Temp\\ipykernel_31288\\153968641.py:3: FutureWarning: A value is trying to be set on a copy of a DataFrame or Series through chained assignment using an inplace method.\n",
      "The behavior will change in pandas 3.0. This inplace method will never work because the intermediate object on which we are setting values always behaves as a copy.\n",
      "\n",
      "For example, when doing 'df[col].method(value, inplace=True)', try using 'df.method({col: value}, inplace=True)' or df[col] = df[col].method(value) instead, to perform the operation inplace on the original object.\n",
      "\n",
      "\n",
      "  df['YearsCodePro'].fillna(0, inplace=True)\n"
     ]
    },
    {
     "data": {
      "text/plain": [
       "ExperienceLevel\n",
       "Expert          12159\n",
       "Senior           9301\n",
       "Intermediate     8454\n",
       "Junior           7608\n",
       "Name: count, dtype: int64"
      ]
     },
     "execution_count": 175,
     "metadata": {},
     "output_type": "execute_result"
    }
   ],
   "source": [
    "## Write your code here\n",
    "df['YearsCodePro'].unique()\n",
    "df['YearsCodePro'].fillna(0, inplace=True)\n",
    "df['YearsCodePro'] = df['YearsCodePro'].replace('Less than 1 year', 0.5)\n",
    "df['YearsCodePro'] = df['YearsCodePro'].replace('More than 50 years', 51)\n",
    "df['YearsCodePro'] = df['YearsCodePro'].astype(float)\n",
    "df['ExperienceLevel'] = pd.cut(df['YearsCodePro'], bins=[0, 2, 5, 10, float('inf')], labels=['Junior', 'Intermediate', 'Senior', 'Expert'])\n",
    "df['ExperienceLevel'].value_counts()"
   ]
  },
  {
   "cell_type": "markdown",
   "metadata": {},
   "source": [
    "### Summary\n"
   ]
  },
  {
   "cell_type": "markdown",
   "metadata": {},
   "source": [
    "In this lab, you:\n",
    "\n",
    "- Explored the dataset to identify inconsistencies and missing values.\n",
    "\n",
    "- Encoded categorical variables for analysis.\n",
    "\n",
    "- Handled missing values using imputation techniques.\n",
    "\n",
    "- Normalized and transformed numerical data to prepare it for analysis.\n",
    "\n",
    "- Engineered a new feature to enhance data interpretation.\n"
   ]
  },
  {
   "cell_type": "markdown",
   "metadata": {},
   "source": [
    "Copyright © IBM Corporation. All rights reserved.\n"
   ]
  }
 ],
 "metadata": {
  "kernelspec": {
   "display_name": "Python 3 (ipykernel)",
   "language": "python",
   "name": "python3"
  },
  "language_info": {
   "codemirror_mode": {
    "name": "ipython",
    "version": 3
   },
   "file_extension": ".py",
   "mimetype": "text/x-python",
   "name": "python",
   "nbconvert_exporter": "python",
   "pygments_lexer": "ipython3",
   "version": "3.12.4"
  },
  "prev_pub_hash": "1e8e234f19fd098e27b0518a87f18de690e1c51f1d3263d5690927d19971251e"
 },
 "nbformat": 4,
 "nbformat_minor": 4
}
